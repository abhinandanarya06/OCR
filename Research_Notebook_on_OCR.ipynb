{
  "nbformat": 4,
  "nbformat_minor": 0,
  "metadata": {
    "colab": {
      "name": "Research Notebook on OCR.ipynb",
      "provenance": [],
      "collapsed_sections": [],
      "toc_visible": true,
      "include_colab_link": true
    },
    "kernelspec": {
      "name": "python3",
      "display_name": "Python 3"
    }
  },
  "cells": [
    {
      "cell_type": "markdown",
      "metadata": {
        "id": "view-in-github",
        "colab_type": "text"
      },
      "source": [
        "<a href=\"https://colab.research.google.com/github/abhinandanarya06/OCR/blob/master/Research_Notebook_on_OCR.ipynb\" target=\"_parent\"><img src=\"https://colab.research.google.com/assets/colab-badge.svg\" alt=\"Open In Colab\"/></a>"
      ]
    },
    {
      "cell_type": "markdown",
      "metadata": {
        "id": "9FSgJtnLFgeQ",
        "colab_type": "text"
      },
      "source": [
        "# **OCR Model Training**\n",
        "\n",
        "\n"
      ]
    },
    {
      "cell_type": "markdown",
      "metadata": {
        "id": "TI0_DhwWjDE9",
        "colab_type": "text"
      },
      "source": [
        "###**Installing and Importing Required Libraries**\n",
        "\n",
        "\n",
        "---\n",
        "\n",
        "\n",
        "\n",
        "1. OpenCV - Image Processing Library\n",
        "2. Tensorflow 2.0 - Machine learning Library"
      ]
    },
    {
      "cell_type": "code",
      "metadata": {
        "id": "JLUSNI0ji1AJ",
        "colab_type": "code",
        "colab": {}
      },
      "source": [
        "!pip install tensorflow==2.0rc1\n",
        "\n",
        "from IPython.display import clear_output\n",
        "import cv2 \n",
        "import tensorflow as tf\n",
        "import matplotlib.pyplot as plt\n",
        "import numpy as np\n",
        "import os\n",
        "\n",
        "clear_output()"
      ],
      "execution_count": 0,
      "outputs": []
    },
    {
      "cell_type": "markdown",
      "metadata": {
        "id": "q26GOj3PjHYz",
        "colab_type": "text"
      },
      "source": [
        "###**Getting The DATASET from the repository**\n",
        "\n",
        "\n",
        "---\n",
        "\n",
        "\n",
        "This will clone git repository. The hierarchy of this repository as shown below:\n",
        "\n",
        "          OCR -+-> data -----+--> a\n",
        "               |             +--> b\n",
        "               +-> other     :\n",
        "                   files     :\n",
        "                             +--> noise\n",
        "                             "
      ]
    },
    {
      "cell_type": "code",
      "metadata": {
        "id": "lIZ4yci3Orv1",
        "colab_type": "code",
        "colab": {}
      },
      "source": [
        "from getpass import getpass\n",
        "user = getpass('GitHub UserName : ')\n",
        "password = getpass('GitHub Password : ')\n",
        "os.environ['GITHUB_AUTH'] = user + ':' + password\n",
        "!git clone https://$GITHUB_AUTH@github.com/abhinandanarya06/OCR.git\n",
        "\n",
        "clear_output()"
      ],
      "execution_count": 0,
      "outputs": []
    },
    {
      "cell_type": "markdown",
      "metadata": {
        "id": "EiHrsV9negPt",
        "colab_type": "text"
      },
      "source": [
        "###**Function to show image**\n",
        "\n",
        "\n",
        "---\n",
        "\n",
        "\n",
        "\"***imshow(image)***\" function show image given as parameter"
      ]
    },
    {
      "cell_type": "code",
      "metadata": {
        "id": "tWl3pkTPmwMa",
        "colab_type": "code",
        "colab": {}
      },
      "source": [
        "def imshow(image):\n",
        "  plt.imshow(image, cmap = 'gray', interpolation = 'bicubic')\n",
        "  plt.xticks([]), plt.yticks([])  # to hide tick values on X and Y axis\n",
        "  plt.show()"
      ],
      "execution_count": 0,
      "outputs": []
    },
    {
      "cell_type": "markdown",
      "metadata": {
        "id": "-uBjWhofqGt1",
        "colab_type": "text"
      },
      "source": [
        "###**Mapping Letters classes to numbers**\n",
        "Keywords contains letters with appropriate index number mapping"
      ]
    },
    {
      "cell_type": "code",
      "metadata": {
        "id": "_RF_9-OMAgdU",
        "colab_type": "code",
        "colab": {}
      },
      "source": [
        "keywords = [chr(c) for c in range(ord('a'), ord('z')+1)]\n",
        "cap = ['A', 'B', 'D', 'E', 'F', 'G', 'H', 'I', 'L', 'M', 'N', 'Q', 'R', 'T']\n",
        "keywords = keywords + cap\n",
        "keywords = keywords + ['noise']"
      ],
      "execution_count": 0,
      "outputs": []
    },
    {
      "cell_type": "code",
      "metadata": {
        "id": "dVTMx_RsKgZU",
        "colab_type": "code",
        "outputId": "40300208-648f-45e5-8e1c-754cec572921",
        "colab": {
          "base_uri": "https://localhost:8080/",
          "height": 36
        }
      },
      "source": [
        "print(len(keywords))"
      ],
      "execution_count": 0,
      "outputs": [
        {
          "output_type": "stream",
          "text": [
            "41\n"
          ],
          "name": "stdout"
        }
      ]
    },
    {
      "cell_type": "markdown",
      "metadata": {
        "id": "lgKyP8KVepRW",
        "colab_type": "text"
      },
      "source": [
        "###**Preparing Data for Training**\n",
        "\n",
        "---\n",
        "\n"
      ]
    },
    {
      "cell_type": "code",
      "metadata": {
        "id": "37gEKyuqRdiW",
        "colab_type": "code",
        "colab": {}
      },
      "source": [
        "data_images = list()\n",
        "labels = list()\n",
        "i = 0\n",
        "for c in keywords:\n",
        "    path = 'OCR/data/{}/'.format(c) # IF YOU WANT TO GET DATA FROM OTHER PATH,\n",
        "    files = os.listdir(path)        # THEN PLEASE MODIFY \"path\" VARIABLE ACCORDINGLY\n",
        "    for name in files:\n",
        "        img = cv2.imread(path+name, 0)\n",
        "        try:\n",
        "            img = cv2.resize(img, (30, 30), interpolation = cv2.INTER_AREA)\n",
        "        except:\n",
        "            continue\n",
        "        data_images.append(img)\n",
        "        labels.append(i)\n",
        "    i += 1\n"
      ],
      "execution_count": 0,
      "outputs": []
    },
    {
      "cell_type": "code",
      "metadata": {
        "id": "DoLzeRTPSxxe",
        "colab_type": "code",
        "colab": {}
      },
      "source": [
        "data_images = np.array(data_images)\n",
        "\n",
        "IMAGE_DATA_SHAPE = (data_images.shape[0], 30, 30, 1)\n",
        "\n",
        "data_images = data_images.reshape(IMAGE_DATA_SHAPE)\n",
        "labels = np.array(labels)"
      ],
      "execution_count": 0,
      "outputs": []
    },
    {
      "cell_type": "code",
      "metadata": {
        "id": "-ia4VVyRXcIe",
        "colab_type": "code",
        "outputId": "d26b36a6-a5a9-4825-c3eb-a3b8ef8b815f",
        "colab": {
          "base_uri": "https://localhost:8080/",
          "height": 36
        }
      },
      "source": [
        "print(labels.shape, data_images.shape)"
      ],
      "execution_count": 0,
      "outputs": [
        {
          "output_type": "stream",
          "text": [
            "(48528,) (48528, 30, 30, 1)\n"
          ],
          "name": "stdout"
        }
      ]
    },
    {
      "cell_type": "markdown",
      "metadata": {
        "id": "iR-49YtUpMSk",
        "colab_type": "text"
      },
      "source": [
        "###**Model Architecture**\n",
        "\n",
        "\n",
        "---\n",
        "\n",
        "\n",
        "Layer Sequence (Sequencial Model) : \n",
        "\n",
        "\n",
        "1.   Conv2D Layer\n",
        "2.   Flatten Operation\n",
        "3.   Dense Layer with 200 units\n",
        "4.   10% neuron Dropout Operation\n",
        "5.   Dense Layer with 41 units\n",
        "\n",
        "\n"
      ]
    },
    {
      "cell_type": "code",
      "metadata": {
        "id": "Avc3xfXDVFlV",
        "colab_type": "code",
        "colab": {}
      },
      "source": [
        "model = tf.keras.Sequential([\n",
        "    tf.keras.layers.Conv2D(8, (5, 5), activation='relu', input_shape = (30, 30, 1)),\n",
        "    tf.keras.layers.Flatten(),\n",
        "    tf.keras.layers.Dense(200, activation = 'relu'),\n",
        "    tf.keras.layers.Dropout(0.1),\n",
        "    tf.keras.layers.Dense(len(keywords))\n",
        "])"
      ],
      "execution_count": 0,
      "outputs": []
    },
    {
      "cell_type": "code",
      "metadata": {
        "id": "3IGyoLOSEEXl",
        "colab_type": "code",
        "outputId": "a8816dcc-c84d-40ed-a37e-b86f3bc14966",
        "colab": {
          "base_uri": "https://localhost:8080/",
          "height": 359
        }
      },
      "source": [
        "model.summary()"
      ],
      "execution_count": 0,
      "outputs": [
        {
          "output_type": "stream",
          "text": [
            "Model: \"sequential\"\n",
            "_________________________________________________________________\n",
            "Layer (type)                 Output Shape              Param #   \n",
            "=================================================================\n",
            "conv2d (Conv2D)              (None, 26, 26, 8)         208       \n",
            "_________________________________________________________________\n",
            "flatten (Flatten)            (None, 5408)              0         \n",
            "_________________________________________________________________\n",
            "dense (Dense)                (None, 200)               1081800   \n",
            "_________________________________________________________________\n",
            "dropout (Dropout)            (None, 200)               0         \n",
            "_________________________________________________________________\n",
            "dense_1 (Dense)              (None, 41)                8241      \n",
            "=================================================================\n",
            "Total params: 1,090,249\n",
            "Trainable params: 1,090,249\n",
            "Non-trainable params: 0\n",
            "_________________________________________________________________\n"
          ],
          "name": "stdout"
        }
      ]
    },
    {
      "cell_type": "markdown",
      "metadata": {
        "id": "PRmgBUBuouzv",
        "colab_type": "text"
      },
      "source": [
        "**Training starts with callback of early stopping with patience 2**\n",
        "\n",
        "---\n",
        "\n"
      ]
    },
    {
      "cell_type": "code",
      "metadata": {
        "id": "GVf2PpGiVU7_",
        "colab_type": "code",
        "colab": {}
      },
      "source": [
        "callback = tf.keras.callbacks.EarlyStopping(monitor='loss', patience=2)\n",
        "\n",
        "model.compile(optimizer='adam',\n",
        "              loss=tf.keras.losses.SparseCategoricalCrossentropy(from_logits=True),\n",
        "              metrics=['accuracy'])"
      ],
      "execution_count": 0,
      "outputs": []
    },
    {
      "cell_type": "code",
      "metadata": {
        "id": "KIhESFL_VYIH",
        "colab_type": "code",
        "colab": {}
      },
      "source": [
        "model.fit(data_images, labels, epochs=10, callbacks = [callback])\n",
        "clear_output()"
      ],
      "execution_count": 0,
      "outputs": []
    },
    {
      "cell_type": "code",
      "metadata": {
        "id": "oSK3QMyDbMnI",
        "colab_type": "code",
        "outputId": "56597906-a4a1-4a6b-94c5-d07bdaccb774",
        "colab": {
          "base_uri": "https://localhost:8080/",
          "height": 74
        }
      },
      "source": [
        "test_loss, test_acc = model.evaluate(data_images,  labels, verbose=2)\n",
        "\n",
        "print('\\nTest accuracy:', test_acc)"
      ],
      "execution_count": 0,
      "outputs": [
        {
          "output_type": "stream",
          "text": [
            "48528/1 - 14s - loss: 0.0428 - accuracy: 0.9758\n",
            "\n",
            "Test accuracy: 0.9758284\n"
          ],
          "name": "stdout"
        }
      ]
    },
    {
      "cell_type": "markdown",
      "metadata": {
        "id": "9njxCU62EESW",
        "colab_type": "text"
      },
      "source": [
        "\n",
        "\n",
        "---\n",
        "\n",
        "\n",
        "---\n",
        "\n",
        "\n",
        "\n"
      ]
    },
    {
      "cell_type": "markdown",
      "metadata": {
        "id": "9h-f51hAsERe",
        "colab_type": "text"
      },
      "source": [
        "# **OCR Model Testing**\n",
        "\n",
        "\n",
        " "
      ]
    },
    {
      "cell_type": "markdown",
      "metadata": {
        "id": "YZfadO5krccq",
        "colab_type": "text"
      },
      "source": [
        "###**Saving the trained model**\n",
        "\n",
        "\n",
        "---\n",
        "\n",
        "'model' model is saved in current directory with name 'model.hd5'\n"
      ]
    },
    {
      "cell_type": "code",
      "metadata": {
        "id": "3xve_Zex6RF1",
        "colab_type": "code",
        "colab": {}
      },
      "source": [
        "model.save('model.h5')\n",
        "clear_output()"
      ],
      "execution_count": 0,
      "outputs": []
    },
    {
      "cell_type": "markdown",
      "metadata": {
        "id": "OXf2j_nv-7_2",
        "colab_type": "text"
      },
      "source": [
        "### **Load Model**\n",
        "\n",
        "---\n",
        "\n"
      ]
    },
    {
      "cell_type": "code",
      "metadata": {
        "id": "adlki9c9gvOZ",
        "colab_type": "code",
        "colab": {}
      },
      "source": [
        "model = tf.keras.models.load_model('model.h5')"
      ],
      "execution_count": 0,
      "outputs": []
    },
    {
      "cell_type": "markdown",
      "metadata": {
        "id": "m3Z2pqR987k7",
        "colab_type": "text"
      },
      "source": [
        "####**Adding Softmax Activation**\n",
        "\n",
        "---\n",
        "\n"
      ]
    },
    {
      "cell_type": "code",
      "metadata": {
        "id": "P9iQ8Pvcg93-",
        "colab_type": "code",
        "colab": {}
      },
      "source": [
        "text_detector = tf.keras.Sequential(\n",
        "    model,\n",
        "    tf.keras.layers.Softmax()\n",
        ")"
      ],
      "execution_count": 0,
      "outputs": []
    },
    {
      "cell_type": "markdown",
      "metadata": {
        "id": "-icNX7xwryBI",
        "colab_type": "text"
      },
      "source": [
        "### **OCR Deployment Demo (Testing Model)**\n",
        "\n",
        "\n",
        "---\n",
        "\n"
      ]
    },
    {
      "cell_type": "markdown",
      "metadata": {
        "id": "Q0aLjV9ZjvgZ",
        "colab_type": "text"
      },
      "source": [
        "#####**Some Conventions**"
      ]
    },
    {
      "cell_type": "code",
      "metadata": {
        "id": "_HBBlCumvMe5",
        "colab_type": "code",
        "colab": {}
      },
      "source": [
        "X = 0   # X coordinate of the character in image space\n",
        "Y = 1   # Y coordinate of the character in image space\n",
        "POS = 1    # shows and return the (x,y) coordinate of image space\n",
        "SHAPE = 2  # shows and return the (width, height) of character contour in image space\n",
        "W = 0 # width of the character\n",
        "H = 1 # height of the character"
      ],
      "execution_count": 0,
      "outputs": []
    },
    {
      "cell_type": "markdown",
      "metadata": {
        "id": "dbjUrWIxkWpo",
        "colab_type": "text"
      },
      "source": [
        "#####\"***check_in(c, region)***\" checks if character is present in the given region \"*region*\" of the image space"
      ]
    },
    {
      "cell_type": "code",
      "metadata": {
        "id": "yqQPiYxW-Ue6",
        "colab_type": "code",
        "colab": {}
      },
      "source": [
        "def check_in(c, region):\n",
        "    x, y, w, h = region\n",
        "    center_x = c[POS][X]+c[SHAPE][W]/2\n",
        "    center_y = c[POS][Y]\n",
        "    if (center_x > x-1 and center_x < x+w+1) and (center_y > y-1 and center_y < y+h+1):\n",
        "        return True\n",
        "    return False"
      ],
      "execution_count": 0,
      "outputs": []
    },
    {
      "cell_type": "markdown",
      "metadata": {
        "id": "JoVdq3wkkoMn",
        "colab_type": "text"
      },
      "source": [
        "#####\"***get_region(c, regions)***\" finds the region in the given list of regions \"*regions*\" in image space and return it"
      ]
    },
    {
      "cell_type": "code",
      "metadata": {
        "id": "NF0s_UijDO91",
        "colab_type": "code",
        "colab": {}
      },
      "source": [
        "def get_region(c, regions):\n",
        "    for region in regions:\n",
        "        if check_in(c, region):\n",
        "            return region\n",
        "    return False"
      ],
      "execution_count": 0,
      "outputs": []
    },
    {
      "cell_type": "markdown",
      "metadata": {
        "id": "jG_DfsrK9biL",
        "colab_type": "text"
      },
      "source": [
        "#####\"***sort_chars(line)***\" Function to sort characters in given line"
      ]
    },
    {
      "cell_type": "code",
      "metadata": {
        "id": "SXkn4jeB0OQ3",
        "colab_type": "code",
        "colab": {}
      },
      "source": [
        "def sort_chars(line):\n",
        "    res = list()\n",
        "    while len(line) > 0:\n",
        "        mx = 100000\n",
        "        m = 0\n",
        "        for c in line:\n",
        "            if c[POS][X] <= mx:\n",
        "                mx = c[POS][X]\n",
        "                m = c\n",
        "        line.remove(m)\n",
        "        res.append(m)\n",
        "    return res"
      ],
      "execution_count": 0,
      "outputs": []
    },
    {
      "cell_type": "markdown",
      "metadata": {
        "id": "nPo8TUVqqwEx",
        "colab_type": "text"
      },
      "source": [
        "#####\"***sort_lines_by_yval(lines)***\" function sorts list of lines according to its y coordinate in image space"
      ]
    },
    {
      "cell_type": "code",
      "metadata": {
        "id": "QJg6T9HNqxXk",
        "colab_type": "code",
        "colab": {}
      },
      "source": [
        "def sort_lines_by_yval(lines):\n",
        "    res = list()\n",
        "    while len(lines) > 0:\n",
        "        mn = 100000\n",
        "        m = 0\n",
        "        for line in lines:\n",
        "            if line[0][POS][Y] < mn:\n",
        "              mn = line[0][POS][Y]\n",
        "              m = line\n",
        "        lines.remove(m)\n",
        "        res.append(m)\n",
        "    return res"
      ],
      "execution_count": 0,
      "outputs": []
    },
    {
      "cell_type": "markdown",
      "metadata": {
        "id": "ZPp-chzF934i",
        "colab_type": "text"
      },
      "source": [
        "#####\"***group_chars_by_line(characters)***\" Function to group characters in given image by lines"
      ]
    },
    {
      "cell_type": "code",
      "metadata": {
        "id": "Gakab90zwYM1",
        "colab_type": "code",
        "colab": {}
      },
      "source": [
        "def group_chars_by_line(characters):\n",
        "  lines = list()\n",
        "  linei = 0\n",
        "  while len(characters) > 0:\n",
        "      m = characters[0]\n",
        "      my = m[1][1]\n",
        "      my_plus_h = m[1][1]+m[2][1]\n",
        "      lines.append([m])\n",
        "      for c in characters[1:]:\n",
        "          if my <= c[POS][Y]+c[SHAPE][H]/2 and c[POS][Y]+c[SHAPE][H]/2 <= my_plus_h:\n",
        "              if my > c[POS][Y]:\n",
        "                  my = c[POS][Y]\n",
        "              if my_plus_h < c[POS][Y]+c[SHAPE][H]:\n",
        "                  my_plus_h = c[POS][Y]+c[SHAPE][H]\n",
        "              lines[linei].append(c)\n",
        "              characters.remove(c)\n",
        "      lines[linei]= sort_chars(lines[linei])\n",
        "      linei += 1\n",
        "      characters.remove(m)\n",
        "  return lines"
      ],
      "execution_count": 0,
      "outputs": []
    },
    {
      "cell_type": "markdown",
      "metadata": {
        "id": "AU18y4IMirkd",
        "colab_type": "text"
      },
      "source": [
        "#####\"***apply_ocr(img)***\" is the function that does actual ocr operation on image parameter to get text"
      ]
    },
    {
      "cell_type": "code",
      "metadata": {
        "id": "s6DTpTVniqEJ",
        "colab_type": "code",
        "colab": {}
      },
      "source": [
        "def apply_ocr(img, text_detector):\n",
        "    avg_text_height = 0 # will be assigned with Average Height of text character\n",
        "    character_list = list() # will contain necessary text character to be extracted\n",
        "    img = cv2.medianBlur(img,5)\n",
        "    img = cv2.adaptiveThreshold(img,255,cv2.ADAPTIVE_THRESH_GAUSSIAN_C,\\\n",
        "            cv2.THRESH_BINARY,21,10) # will remove maximum noise and make image suitable for contour dt\n",
        "    contours, hierarchy = cv2.findContours(img,cv2.RETR_TREE,cv2.CHAIN_APPROX_SIMPLE)\n",
        "    black_map = img.copy()\n",
        "    black_map[:, :] = 0\n",
        "    i = 0\n",
        "    for contour in contours:\n",
        "        try:\n",
        "            x,y,w,h = cv2.boundingRect(contour)\n",
        "            try:\n",
        "                cnt = img[y-2:y+h+2, x-2:x+w+2]\n",
        "            except:\n",
        "                cnt = img[y:y+h, x:x+w]\n",
        "            cnt = cv2.resize(cnt, (30, 30), interpolation = cv2.INTER_AREA)\n",
        "            cnt = cnt.reshape((1, 30, 30, 1))\n",
        "            class_pred = np.argmax(text_detector.predict(cnt))\n",
        "            if class_pred < 40:\n",
        "                avg_text_height += h\n",
        "                cv2.rectangle(black_map, (x,y), (x+w+w//4, y+h), 255, -1)\n",
        "                character_list.append([keywords[class_pred], (x,y), (w,h)])\n",
        "                i += 1\n",
        "        except:\n",
        "              continue\n",
        "    avg_text_height /= i # Average Height of text character\n",
        "    text = group_chars_by_line(character_list)\n",
        "    text = sort_lines_by_yval(text)\n",
        "    contours, hierarchy = cv2.findContours(black_map, cv2.RETR_TREE, cv2.CHAIN_APPROX_SIMPLE)\n",
        "    regions = list() # will contain regions of words for grouping chars by word\n",
        "    for contour in contours:\n",
        "        region = cv2.boundingRect(contour)\n",
        "        if region[SHAPE + H] <= avg_text_height*7:\n",
        "          regions.append(region)\n",
        "    del contours\n",
        "\n",
        "    TEXT = ''\n",
        "    for l in text:\n",
        "        char = l[0]\n",
        "        region = get_region(char, regions)\n",
        "        if not region:\n",
        "            continue\n",
        "        for char in l:\n",
        "            if not check_in(char, region):\n",
        "                TEXT = TEXT + ' '\n",
        "                r = get_region(char, regions)\n",
        "                if not r:\n",
        "                    continue\n",
        "                region = r\n",
        "            TEXT = TEXT + char[0]\n",
        "        TEXT = TEXT + '\\n'\n",
        "    return TEXT"
      ],
      "execution_count": 0,
      "outputs": []
    },
    {
      "cell_type": "markdown",
      "metadata": {
        "id": "muL4gXKo8Tp0",
        "colab_type": "text"
      },
      "source": [
        "#####**Main Run Start Point**\n",
        "\n",
        "---\n",
        "\n",
        "\n",
        "\n",
        "* Before running this start point, Please check if \n",
        " *test_image_path* variable have path to your own test images or not.\n",
        "* If not, please modify the path variable"
      ]
    },
    {
      "cell_type": "code",
      "metadata": {
        "id": "7B0-iXGaKZXn",
        "colab_type": "code",
        "outputId": "dbf46c2e-7c0a-4570-d237-659829f2cd8d",
        "colab": {
          "base_uri": "https://localhost:8080/",
          "height": 1000
        }
      },
      "source": [
        "test_images_path = 'OCR/sample_test_image/' # IF YOU PLACE TEST IMAGE INSIDE OCR DIRECTORY,\n",
        "                                            # THEN PLEASE MODIFY \"test_images_path\" variable\n",
        "\n",
        "\n",
        "imgs = [f for f in os.listdir(test_images_path) if f.endswith('.jpg')]\n",
        "img_no = 0\n",
        "for img in imgs:\n",
        "    print('*'*30, 'Text on {}'.format(img), '*'*30)\n",
        "    img = cv2.imread(test_images_path + img, 0)\n",
        "    TEXT = apply_ocr(img, text_detector)\n",
        "    imshow(img)\n",
        "    print(TEXT)\n",
        "    print('-'*80, '\\n\\n')\n",
        "    img_no += 1"
      ],
      "execution_count": 0,
      "outputs": [
        {
          "output_type": "stream",
          "text": [
            "****************************** Text on 1.jpg ******************************\n"
          ],
          "name": "stdout"
        },
        {
          "output_type": "display_data",
          "data": {
            "image/png": "[encoded data removed]",
            "text/plain": [
              "<Figure size 432x288 with 1 Axes>"
            ]
          },
          "metadata": {
            "tags": []
          }
        },
        {
          "output_type": "stream",
          "text": [
            "GT ohaT warmx ng\n",
            "passage g\n",
            "w\n",
            "Glbwi h d d b dual l norease l n\n",
            "oa warmi ng i s te term use to esorl e a gra\n",
            "tihe average temperature of the Ea h s atmosphere and l ts ooeans a\n",
            "ohange that l s bel i eved to be permanentiy ohangl ng the Ea h s oh l mate\n",
            "There ls great debate among many peopi e and sometl mes l n the news\n",
            "on whether ghobah warml ng i s real some oal l l t a hoax But ol l mate\n",
            "sol entlsts l ookl ng at the data and faots agree the gl anet l s warml ng\n",
            "whlle many vl ew the ekeots ot gl obal warml ng to be more substanti al\n",
            "and more rapl dly ooourrl ng than others do the sol entl l o oonsensus on\n",
            "ol lmatlo ohanges rek ated to gl obal warml ng ls that the average\n",
            "temperature ot the Ea h has rlsen between o and o a c oMer the past\n",
            "oo years The l noreased vol umes of oarbon dl oxl de and other\n",
            "greenhouse gases released by the burnl ng of fossi l fuel s l and oh earl n w g\n",
            "agrlouk ture and other human aotlvl ti es are bel i eved to be the pri ma\n",
            "souroes of the gl obal warmi ng that has ooourred over the past bo years\n",
            "sol enti sts from the l ntergovernmental panel on cl l mate oar l ng out\n",
            "gl obal warmlng researoh have reoentiy predl oted that average gLoba\n",
            "temperatures oou d l norease between and b a c by the year oo\n",
            "changes resulti ng trom globak warml ng may l nol ude rl sl ng sea level s\n",
            "due to the mel tlng ot the gol ar l oe oaps as we l as an l norease l n\n",
            "ooourrenoe and severlty of storms and other seMere weather eMents\n",
            "Questlons\n",
            "Gl obal warml ng oan be desorlbed as\n",
            "g\n",
            "s\n",
            "ce l mate solentl sts agree that\n",
            "s\n",
            "B The temperature of the ea h has ri sen between\n",
            "pri ma souroes of gi obal warml ng are\n",
            "s\n",
            "b Green house gases are rel eased due to\n",
            "s\n",
            "u\n",
            "h\n",
            "\n",
            "-------------------------------------------------------------------------------- \n",
            "\n",
            "\n"
          ],
          "name": "stdout"
        }
      ]
    }
  ]
}